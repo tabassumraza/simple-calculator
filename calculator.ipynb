{
 "cells": [
  {
   "cell_type": "code",
   "execution_count": null,
   "id": "2e0bee92",
   "metadata": {},
   "outputs": [],
   "source": [
    "def add(P, Q):       \n",
    "    return P + Q   \n",
    "def subtract(P, Q):    \n",
    "    return P - Q   \n",
    "def multiply(P, Q):   \n",
    "    return P * Q   \n",
    "def divide(P, Q):       \n",
    "    return P / Q    \n",
    "\n",
    "print (\"Please select the operation.\")    \n",
    "print (\"a. Add\")    \n",
    "print (\"b. Subtract\")    \n",
    "print (\"c. Multiply\")    \n",
    "print (\"d. Divide\")    \n",
    "    \n",
    "choose = input(\"Please enter choice (a/ b/ c/ d): \")    \n",
    "    \n",
    "num_1 = int (input (\"Please enter the first number: \"))    \n",
    "num_2 = int (input (\"Please enter the second number: \"))    \n",
    "    \n",
    "if choose == 'a':    \n",
    "       print (\"sum =\",add(num_1, num_2))    \n",
    "    \n",
    "elif choose == 'b':    \n",
    "       print (num_1,\"-\",num_2,\"=\",subtract(num_1, num_2))    \n",
    "    \n",
    "elif choose == 'c':    \n",
    "       print (num1,\"*\",num2,\"=\",multiply(num1, num2))    \n",
    "elif choose == 'd':    \n",
    "       print (num_1,\"/\",num_2,\"=\",divide(num_1, num_2))    \n",
    "else:    \n",
    "       print (\"This is an invalid input\")    "
   ]
  }
 ],
 "metadata": {
  "kernelspec": {
   "display_name": "Python 3 (ipykernel)",
   "language": "python",
   "name": "python3"
  },
  "language_info": {
   "codemirror_mode": {
    "name": "ipython",
    "version": 3
   },
   "file_extension": ".py",
   "mimetype": "text/x-python",
   "name": "python",
   "nbconvert_exporter": "python",
   "pygments_lexer": "ipython3",
   "version": "3.9.12"
  }
 },
 "nbformat": 4,
 "nbformat_minor": 5
}
